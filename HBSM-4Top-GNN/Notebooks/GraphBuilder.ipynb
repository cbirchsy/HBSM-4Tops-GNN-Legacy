{
 "cells": [
  {
   "cell_type": "code",
   "execution_count": 1,
   "metadata": {
    "colab": {
     "base_uri": "https://localhost:8080/",
     "height": 1000
    },
    "id": "HSDA6PnhwSXh",
    "outputId": "2a4af7e6-59b9-406c-82bc-b1d6dd18b282"
   },
   "outputs": [
    {
     "name": "stdout",
     "output_type": "stream",
     "text": [
      "1.12.1\n",
      "None\n"
     ]
    }
   ],
   "source": [
    "import torch\n",
    "\n",
    "print(torch.__version__)\n",
    "print(torch.version.cuda)\n",
    "\n",
    "import sys\n",
    "import pandas as pd\n",
    "import numpy as np\n",
    "import matplotlib.pyplot as plt\n",
    "import os\n",
    "import pickle\n",
    "import time\n",
    "import networkx as nx\n",
    "from itertools import combinations, permutations\n",
    "\n",
    "from torch_geometric.data import Data, Dataset\n",
    "\n",
    "sys.path.append(\"..\")\n",
    "from gnn_tools.graphs import customDataset, CreateTorchGraphsTensor\n",
    "from gnn_tools.data import apply_reweighting, add_sample_weights, add_HT_ratio, add_sum_rcjets_d12_d23\n",
    "\n",
    "%matplotlib inline"
   ]
  },
  {
   "cell_type": "code",
   "execution_count": 11,
   "metadata": {
    "id": "chWrM99PzmD8"
   },
   "outputs": [],
   "source": [
    "# Load in the samples\n",
    "def loadSamples(path_to_samples, channel):\n",
    "    if channel == \"1L\":\n",
    "        j = 9\n",
    "    if channel == \"2L\":\n",
    "        j = 7\n",
    "    with open(path_to_samples + f\"{channel}_ttbar_nominal_ge{j}jge3b.pkl\", \"rb\") as fh:\n",
    "        df_ttbar = pickle.load(fh)\n",
    "    with open(path_to_samples + f\"{channel}_nominal_newRew_ge{j}jge3b.pkl\", \"rb\") as fh:\n",
    "        df_NNRew = pickle.load(fh)\n",
    "    with open(path_to_samples + f\"{channel}_signal_ge{j}jge3b.pkl\", \"rb\") as fh:\n",
    "        df_signal = pickle.load(fh)\n",
    "\n",
    "    # combine reweighting\n",
    "    df_ttbar = df_ttbar.merge(df_NNRew, on=[\"eventNumber\", \"runNumber\", \"mcChannelNumber\", \"nJets\", \"nBTags_DL1r_70\"])\n",
    "\n",
    "    df_ttbar[\"IsSig\"] = 0\n",
    "    df_ttbar[\"mH_label\"] = 0\n",
    "\n",
    "    df_signal[\"IsSig\"] = 1\n",
    "    df_signal[\"mH_label\"] = None\n",
    "    dsids_map = {312440: 400, 312441: 500, 312442: 600, 312443: 700, 312444: 800, 312445: 900, 312446: 1000}\n",
    "    for dsid in dsids_map:\n",
    "        mass = dsids_map[dsid]\n",
    "        df_signal.loc[df_signal[\"mcChannelNumber\"] == dsid, \"mH_label\"] = mass\n",
    "\n",
    "    return pd.concat([df_ttbar, df_signal])\n",
    "\n",
    "\n",
    "def preprocessSamples(df):\n",
    "    df = apply_reweighting(df)\n",
    "    df = add_sample_weights(df)\n",
    "    df = add_HT_ratio(df)\n",
    "    df = add_sum_rcjets_d12_d23(df)\n",
    "    return df\n",
    "\n",
    "\n",
    "def createDataset(df, path_to_save, dir_name, channel):\n",
    "    node_scale = np.asarray([200000, np.pi, np.pi, 200000, 5, 1])\n",
    "    edge_scale = np.asarray([np.pi, np.pi, np.pi])\n",
    "    global_features_final_1L = [\n",
    "        \"HT_all\",\n",
    "        \"mtw\",\n",
    "        \"nJets\",\n",
    "        \"nRCJetsM100\",\n",
    "        \"Mbbb_Avg_DL1r_70\",\n",
    "        \"dRbb_MindR_DL1r_70\",\n",
    "        \"dRbl_MindR_DL1r_70\",\n",
    "        \"Centrality_all\",\n",
    "        \"dRjj_Avg\",\n",
    "        \"Sum__jet_pcb_DL1r_btag_ordered_T__Iteration__6__\",\n",
    "        \"Sum_rcjet_d12\",\n",
    "        \"Sum_rcjet_d23\",\n",
    "        \"HT_ratio\",\n",
    "        \"Mjjj_AvgdRs3\",\n",
    "    ]\n",
    "    global_features_final_2L = [\n",
    "        \"HT_all\",\n",
    "        \"mll\",\n",
    "        \"nJets\",\n",
    "        \"nRCJetsM100\",\n",
    "        \"Mbbb_Avg_DL1r_70\",\n",
    "        \"dRbb_MindR_DL1r_70\",\n",
    "        \"dRbl_MindR_DL1r_70\",\n",
    "        \"Centrality_all\",\n",
    "        \"dRjj_Avg\",\n",
    "        \"Sum__jet_pcb_DL1r_btag_ordered_T__Iteration__6__\",\n",
    "        \"Sum_rcjet_d12\",\n",
    "        \"Sum_rcjet_d23\",\n",
    "        \"HT_ratio\",\n",
    "        \"Mjjj_AvgdRs3\",\n",
    "    ]\n",
    "    global_scale = np.asarray([5000000, 1000000, 20, 5, 4000000, 3, 4, 1, 3, 30, 1000000, 400000, 20, 1000000])\n",
    "\n",
    "    if channel == \"1L\":\n",
    "        global_features = global_features_final_1L\n",
    "    if channel == \"2L\":\n",
    "        global_features = global_features_final_2L\n",
    "\n",
    "    df[\"eventNumber\"] = df[\"eventNumber\"].astype(int)\n",
    "\n",
    "    graphs, booking = CreateTorchGraphsTensor(\n",
    "        df.query(\"eventNumber%2==0\"), global_features, global_scale, node_scale, edge_scale\n",
    "    )\n",
    "    dataset_train = customDataset(graphs, booking)\n",
    "    dataset_train.save_to(path_to_save + dir_name + \"_Even\")\n",
    "\n",
    "    graphs, booking = CreateTorchGraphsTensor(\n",
    "        df.query(\"eventNumber%2==1\"), global_features, global_scale, node_scale, edge_scale\n",
    "    )\n",
    "    dataset_test = customDataset(graphs, booking)\n",
    "    dataset_test.save_to(path_to_save + dir_name + \"_Odd\")"
   ]
  },
  {
   "cell_type": "code",
   "execution_count": 12,
   "metadata": {
    "id": "e_Tz_KQQ-EEg"
   },
   "outputs": [],
   "source": [
    "path_to_samples = \"../../BSM4t-212169-1LOS/\"\n",
    "df_1L = loadSamples(path_to_samples, \"1L\")\n",
    "df_2L = loadSamples(path_to_samples, \"2L\")"
   ]
  },
  {
   "cell_type": "code",
   "execution_count": 13,
   "metadata": {
    "colab": {
     "base_uri": "https://localhost:8080/"
    },
    "id": "aWXHI6Of3V13",
    "outputId": "6bf2cc94-dd89-49de-ac75-4a687da1e072"
   },
   "outputs": [
    {
     "name": "stderr",
     "output_type": "stream",
     "text": [
      "/Users/cbirchsy/PycharmProjects/pythonProject/HBSM-4Top-GNN/Notebooks/../gnn_tools/data.py:47: SettingWithCopyWarning: \n",
      "A value is trying to be set on a copy of a slice from a DataFrame.\n",
      "Try using .loc[row_indexer,col_indexer] = value instead\n",
      "\n",
      "See the caveats in the documentation: https://pandas.pydata.org/pandas-docs/stable/user_guide/indexing.html#returning-a-view-versus-a-copy\n",
      "  df[\"weight_rw\"] = df[\"weight_rw\"] * df[\"nnRewFactor\"]\n",
      "/Users/cbirchsy/PycharmProjects/pythonProject/HBSM-4Top-GNN/Notebooks/../gnn_tools/data.py:60: SettingWithCopyWarning: \n",
      "A value is trying to be set on a copy of a slice from a DataFrame.\n",
      "Try using .loc[row_indexer,col_indexer] = value instead\n",
      "\n",
      "See the caveats in the documentation: https://pandas.pydata.org/pandas-docs/stable/user_guide/indexing.html#returning-a-view-versus-a-copy\n",
      "  df[\"jet_truthflav5_sum\"] = [\n",
      "/Users/cbirchsy/PycharmProjects/pythonProject/HBSM-4Top-GNN/Notebooks/../gnn_tools/data.py:88: FutureWarning: The frame.append method is deprecated and will be removed from pandas in a future version. Use pandas.concat instead.\n",
      "  df = df_bkg.append(df_sig, ignore_index=True)\n",
      "/Users/cbirchsy/PycharmProjects/pythonProject/HBSM-4Top-GNN/Notebooks/../gnn_tools/data.py:47: SettingWithCopyWarning: \n",
      "A value is trying to be set on a copy of a slice from a DataFrame.\n",
      "Try using .loc[row_indexer,col_indexer] = value instead\n",
      "\n",
      "See the caveats in the documentation: https://pandas.pydata.org/pandas-docs/stable/user_guide/indexing.html#returning-a-view-versus-a-copy\n",
      "  df[\"weight_rw\"] = df[\"weight_rw\"] * df[\"nnRewFactor\"]\n",
      "/Users/cbirchsy/PycharmProjects/pythonProject/HBSM-4Top-GNN/Notebooks/../gnn_tools/data.py:60: SettingWithCopyWarning: \n",
      "A value is trying to be set on a copy of a slice from a DataFrame.\n",
      "Try using .loc[row_indexer,col_indexer] = value instead\n",
      "\n",
      "See the caveats in the documentation: https://pandas.pydata.org/pandas-docs/stable/user_guide/indexing.html#returning-a-view-versus-a-copy\n",
      "  df[\"jet_truthflav5_sum\"] = [\n",
      "/Users/cbirchsy/PycharmProjects/pythonProject/HBSM-4Top-GNN/Notebooks/../gnn_tools/data.py:88: FutureWarning: The frame.append method is deprecated and will be removed from pandas in a future version. Use pandas.concat instead.\n",
      "  df = df_bkg.append(df_sig, ignore_index=True)\n"
     ]
    }
   ],
   "source": [
    "# prep data by generating sample weights and filling missing variables\n",
    "df_1L = preprocessSamples(df_1L)\n",
    "df_2L = preprocessSamples(df_2L)"
   ]
  },
  {
   "cell_type": "code",
   "execution_count": 5,
   "outputs": [
    {
     "name": "stdout",
     "output_type": "stream",
     "text": [
      "446675/446675 complete. Time elapsed: 1287.2s,   Estimated time remaining: 0.0sss\n",
      "Done\n",
      "Creating graph data...\n",
      "447056/447056 complete. Time elapsed: 1254.4s,   Estimated time remaining: 0.0sss\n",
      "Done\n",
      "Creating graph data...\n",
      "446675/446675 complete. Time elapsed: 1019.3s,   Estimated time remaining: 0.0ss\n",
      "Done\n",
      "Creating graph data...\n",
      "447056/447056 complete. Time elapsed: 1027.0s,   Estimated time remaining: 0.0ss\n",
      "Done\n"
     ]
    }
   ],
   "source": [
    "createDataset(df_1L, \"./\", \"1L\", \"1L\")"
   ],
   "metadata": {
    "collapsed": false
   }
  },
  {
   "cell_type": "code",
   "execution_count": 15,
   "outputs": [
    {
     "name": "stdout",
     "output_type": "stream",
     "text": [
      "Creating graph data...\n",
      "109740/109740 complete. Time elapsed: 219.1s,   Estimated time remaining: 0.0ss\n",
      "Done\n",
      "Creating graph data...\n",
      "110436/110436 complete. Time elapsed: 219.1s,   Estimated time remaining: 0.0ss\n",
      "Done\n",
      "109740/109740 complete. Time elapsed: 220.4s,   Estimated time remaining: 0.0ss\n",
      "Done\n",
      "Creating graph data...\n",
      "110436/110436 complete. Time elapsed: 266.4s,   Estimated time remaining: 0.0ss\n",
      "Done\n"
     ]
    }
   ],
   "source": [
    "createDataset(df_2L, \"./\", \"2L\", \"2L\")"
   ],
   "metadata": {
    "collapsed": false
   }
  },
  {
   "cell_type": "code",
   "execution_count": 16,
   "metadata": {
    "colab": {
     "base_uri": "https://localhost:8080/"
    },
    "id": "qop9-Xd8vHs1",
    "outputId": "dabd32d0-4fd8-4f71-a2c1-65ee40e35224"
   },
   "outputs": [
    {
     "name": "stdout",
     "output_type": "stream",
     "text": [
      "Downloading file 1/10...\n",
      "Downloading file 2/10...\n",
      "Downloading file 3/10...\n",
      "Downloading file 4/10...\n",
      "Downloading file 5/10...\n",
      "Downloading file 6/10...\n",
      "Downloading file 7/10...\n",
      "Downloading file 8/10...\n",
      "Downloading file 9/10...\n",
      "Downloading file 10/10...\n",
      "Done\n",
      "Downloading file 1/10...\n",
      "Downloading file 2/10...\n",
      "Downloading file 3/10...\n",
      "Downloading file 4/10...\n",
      "Downloading file 5/10...\n",
      "Downloading file 6/10...\n",
      "Downloading file 7/10...\n",
      "Downloading file 8/10...\n",
      "Downloading file 9/10...\n",
      "Downloading file 10/10...\n",
      "Done\n",
      "Downloading file 1/10...\n",
      "Downloading file 2/10...\n",
      "Downloading file 3/10...\n",
      "Downloading file 4/10...\n",
      "Downloading file 5/10...\n",
      "Downloading file 6/10...\n",
      "Downloading file 7/10...\n",
      "Downloading file 8/10...\n",
      "Downloading file 9/10...\n",
      "Downloading file 10/10...\n",
      "Done\n",
      "Downloading file 1/10...\n",
      "Downloading file 2/10...\n",
      "Downloading file 3/10...\n",
      "Downloading file 4/10...\n",
      "Downloading file 5/10...\n",
      "Downloading file 6/10...\n",
      "Downloading file 7/10...\n",
      "Downloading file 8/10...\n",
      "Downloading file 9/10...\n",
      "Downloading file 10/10...\n",
      "Done\n"
     ]
    }
   ],
   "source": [
    "# test load\n",
    "from gnn_tools.graphs import customDataset\n",
    "from torch_geometric.data import Data, Dataset\n",
    "\n",
    "dataset_train = customDataset()\n",
    "dataset_test = customDataset()\n",
    "\n",
    "path_to_save = \"./\"\n",
    "dir_name = \"2L_nominal\"\n",
    "\n",
    "dataset_train.download_from(\"{}/{}_{}\".format(path_to_save, dir_name, \"Even\"))\n",
    "dataset_test.download_from(\"{}/{}_{}\".format(path_to_save, dir_name, \"Odd\"))"
   ]
  },
  {
   "cell_type": "code",
   "execution_count": 17,
   "outputs": [
    {
     "data": {
      "text/plain": "        eventNumber  runNumber  mcChannelNumber  mH_label  pseudo_mH  \\\n0           9609540     284500           407344         0        400   \n1          11990012     284500           407344         0        700   \n2          15624166     284500           407344         0        900   \n3          18057350     284500           407344         0        500   \n4          12860832     284500           407344         0        900   \n...             ...        ...              ...       ...        ...   \n109735       323722     310000           312445       900        900   \n109736       322396     310000           312445       900        900   \n109737       323036     310000           312445       900        900   \n109738       322310     310000           312445       900        900   \n109739       322710     310000           312445       900        900   \n\n        nBTags_DL1r_70  nJets  \n0                    3      7  \n1                    3      7  \n2                    4      7  \n3                    3      7  \n4                    3      7  \n...                ...    ...  \n109735               3      8  \n109736               4      8  \n109737               3      9  \n109738               4     11  \n109739               3     11  \n\n[109740 rows x 7 columns]",
      "text/html": "<div>\n<style scoped>\n    .dataframe tbody tr th:only-of-type {\n        vertical-align: middle;\n    }\n\n    .dataframe tbody tr th {\n        vertical-align: top;\n    }\n\n    .dataframe thead th {\n        text-align: right;\n    }\n</style>\n<table border=\"1\" class=\"dataframe\">\n  <thead>\n    <tr style=\"text-align: right;\">\n      <th></th>\n      <th>eventNumber</th>\n      <th>runNumber</th>\n      <th>mcChannelNumber</th>\n      <th>mH_label</th>\n      <th>pseudo_mH</th>\n      <th>nBTags_DL1r_70</th>\n      <th>nJets</th>\n    </tr>\n  </thead>\n  <tbody>\n    <tr>\n      <th>0</th>\n      <td>9609540</td>\n      <td>284500</td>\n      <td>407344</td>\n      <td>0</td>\n      <td>400</td>\n      <td>3</td>\n      <td>7</td>\n    </tr>\n    <tr>\n      <th>1</th>\n      <td>11990012</td>\n      <td>284500</td>\n      <td>407344</td>\n      <td>0</td>\n      <td>700</td>\n      <td>3</td>\n      <td>7</td>\n    </tr>\n    <tr>\n      <th>2</th>\n      <td>15624166</td>\n      <td>284500</td>\n      <td>407344</td>\n      <td>0</td>\n      <td>900</td>\n      <td>4</td>\n      <td>7</td>\n    </tr>\n    <tr>\n      <th>3</th>\n      <td>18057350</td>\n      <td>284500</td>\n      <td>407344</td>\n      <td>0</td>\n      <td>500</td>\n      <td>3</td>\n      <td>7</td>\n    </tr>\n    <tr>\n      <th>4</th>\n      <td>12860832</td>\n      <td>284500</td>\n      <td>407344</td>\n      <td>0</td>\n      <td>900</td>\n      <td>3</td>\n      <td>7</td>\n    </tr>\n    <tr>\n      <th>...</th>\n      <td>...</td>\n      <td>...</td>\n      <td>...</td>\n      <td>...</td>\n      <td>...</td>\n      <td>...</td>\n      <td>...</td>\n    </tr>\n    <tr>\n      <th>109735</th>\n      <td>323722</td>\n      <td>310000</td>\n      <td>312445</td>\n      <td>900</td>\n      <td>900</td>\n      <td>3</td>\n      <td>8</td>\n    </tr>\n    <tr>\n      <th>109736</th>\n      <td>322396</td>\n      <td>310000</td>\n      <td>312445</td>\n      <td>900</td>\n      <td>900</td>\n      <td>4</td>\n      <td>8</td>\n    </tr>\n    <tr>\n      <th>109737</th>\n      <td>323036</td>\n      <td>310000</td>\n      <td>312445</td>\n      <td>900</td>\n      <td>900</td>\n      <td>3</td>\n      <td>9</td>\n    </tr>\n    <tr>\n      <th>109738</th>\n      <td>322310</td>\n      <td>310000</td>\n      <td>312445</td>\n      <td>900</td>\n      <td>900</td>\n      <td>4</td>\n      <td>11</td>\n    </tr>\n    <tr>\n      <th>109739</th>\n      <td>322710</td>\n      <td>310000</td>\n      <td>312445</td>\n      <td>900</td>\n      <td>900</td>\n      <td>3</td>\n      <td>11</td>\n    </tr>\n  </tbody>\n</table>\n<p>109740 rows × 7 columns</p>\n</div>"
     },
     "execution_count": 8,
     "metadata": {},
     "output_type": "execute_result"
    },
    {
     "data": {
      "text/plain": "        eventNumber  runNumber  mcChannelNumber  mH_label  pseudo_mH  \\\n0           9609540     284500           407344         0        400   \n1          11990012     284500           407344         0        700   \n2          15624166     284500           407344         0        900   \n3          18057350     284500           407344         0        500   \n4          12860832     284500           407344         0        900   \n...             ...        ...              ...       ...        ...   \n109735       323722     310000           312445       900        900   \n109736       322396     310000           312445       900        900   \n109737       323036     310000           312445       900        900   \n109738       322310     310000           312445       900        900   \n109739       322710     310000           312445       900        900   \n\n        nBTags_DL1r_70  nJets  \n0                    3      7  \n1                    3      7  \n2                    4      7  \n3                    3      7  \n4                    3      7  \n...                ...    ...  \n109735               3      8  \n109736               4      8  \n109737               3      9  \n109738               4     11  \n109739               3     11  \n\n[109740 rows x 7 columns]",
      "text/html": "<div>\n<style scoped>\n    .dataframe tbody tr th:only-of-type {\n        vertical-align: middle;\n    }\n\n    .dataframe tbody tr th {\n        vertical-align: top;\n    }\n\n    .dataframe thead th {\n        text-align: right;\n    }\n</style>\n<table border=\"1\" class=\"dataframe\">\n  <thead>\n    <tr style=\"text-align: right;\">\n      <th></th>\n      <th>eventNumber</th>\n      <th>runNumber</th>\n      <th>mcChannelNumber</th>\n      <th>mH_label</th>\n      <th>pseudo_mH</th>\n      <th>nBTags_DL1r_70</th>\n      <th>nJets</th>\n    </tr>\n  </thead>\n  <tbody>\n    <tr>\n      <th>0</th>\n      <td>9609540</td>\n      <td>284500</td>\n      <td>407344</td>\n      <td>0</td>\n      <td>400</td>\n      <td>3</td>\n      <td>7</td>\n    </tr>\n    <tr>\n      <th>1</th>\n      <td>11990012</td>\n      <td>284500</td>\n      <td>407344</td>\n      <td>0</td>\n      <td>700</td>\n      <td>3</td>\n      <td>7</td>\n    </tr>\n    <tr>\n      <th>2</th>\n      <td>15624166</td>\n      <td>284500</td>\n      <td>407344</td>\n      <td>0</td>\n      <td>900</td>\n      <td>4</td>\n      <td>7</td>\n    </tr>\n    <tr>\n      <th>3</th>\n      <td>18057350</td>\n      <td>284500</td>\n      <td>407344</td>\n      <td>0</td>\n      <td>500</td>\n      <td>3</td>\n      <td>7</td>\n    </tr>\n    <tr>\n      <th>4</th>\n      <td>12860832</td>\n      <td>284500</td>\n      <td>407344</td>\n      <td>0</td>\n      <td>900</td>\n      <td>3</td>\n      <td>7</td>\n    </tr>\n    <tr>\n      <th>...</th>\n      <td>...</td>\n      <td>...</td>\n      <td>...</td>\n      <td>...</td>\n      <td>...</td>\n      <td>...</td>\n      <td>...</td>\n    </tr>\n    <tr>\n      <th>109735</th>\n      <td>323722</td>\n      <td>310000</td>\n      <td>312445</td>\n      <td>900</td>\n      <td>900</td>\n      <td>3</td>\n      <td>8</td>\n    </tr>\n    <tr>\n      <th>109736</th>\n      <td>322396</td>\n      <td>310000</td>\n      <td>312445</td>\n      <td>900</td>\n      <td>900</td>\n      <td>4</td>\n      <td>8</td>\n    </tr>\n    <tr>\n      <th>109737</th>\n      <td>323036</td>\n      <td>310000</td>\n      <td>312445</td>\n      <td>900</td>\n      <td>900</td>\n      <td>3</td>\n      <td>9</td>\n    </tr>\n    <tr>\n      <th>109738</th>\n      <td>322310</td>\n      <td>310000</td>\n      <td>312445</td>\n      <td>900</td>\n      <td>900</td>\n      <td>4</td>\n      <td>11</td>\n    </tr>\n    <tr>\n      <th>109739</th>\n      <td>322710</td>\n      <td>310000</td>\n      <td>312445</td>\n      <td>900</td>\n      <td>900</td>\n      <td>3</td>\n      <td>11</td>\n    </tr>\n  </tbody>\n</table>\n<p>109740 rows × 7 columns</p>\n</div>"
     },
     "execution_count": 17,
     "metadata": {},
     "output_type": "execute_result"
    }
   ],
   "source": [
    "dataset_train.booking"
   ],
   "metadata": {
    "collapsed": false
   }
  },
  {
   "cell_type": "code",
   "execution_count": 18,
   "outputs": [
    {
     "data": {
      "text/plain": "Data(x=[10, 5], edge_index=[2, 90], edge_attr=[90, 3], y=0.0, w=80.60401153564453, u=[1, 14], pseudo_mH=0.4000000059604645)"
     },
     "execution_count": 9,
     "metadata": {},
     "output_type": "execute_result"
    },
    {
     "data": {
      "text/plain": "Data(x=[10, 5], edge_index=[2, 90], edge_attr=[90, 3], y=0.0, w=80.60401153564453, u=[1, 14], pseudo_mH=0.4000000059604645)"
     },
     "execution_count": 18,
     "metadata": {},
     "output_type": "execute_result"
    }
   ],
   "source": [
    "dataset_train[0]"
   ],
   "metadata": {
    "collapsed": false
   }
  },
  {
   "cell_type": "code",
   "execution_count": 9,
   "outputs": [],
   "source": [],
   "metadata": {
    "collapsed": false
   }
  }
 ],
 "metadata": {
  "accelerator": "GPU",
  "colab": {
   "machine_shape": "hm",
   "provenance": []
  },
  "gpuClass": "standard",
  "kernelspec": {
   "name": "python3",
   "language": "python",
   "display_name": "Python 3 (ipykernel)"
  },
  "language_info": {
   "name": "python"
  }
 },
 "nbformat": 4,
 "nbformat_minor": 0
}
